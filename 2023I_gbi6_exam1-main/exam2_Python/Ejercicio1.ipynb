{
 "cells": [
  {
   "cell_type": "code",
   "execution_count": 30,
   "id": "33cec069",
   "metadata": {},
   "outputs": [],
   "source": [
    "import popsimulate"
   ]
  },
  {
   "cell_type": "code",
   "execution_count": 26,
   "id": "af3a6285",
   "metadata": {},
   "outputs": [],
   "source": [
    "import scipy\n",
    "import numpy.random as random"
   ]
  },
  {
   "cell_type": "code",
   "execution_count": 35,
   "id": "25211648",
   "metadata": {},
   "outputs": [
    {
     "name": "stdout",
     "output_type": "stream",
     "text": [
      "[('a', 'a'), ('a', 'A'), ('A', 'A'), ('A', 'A'), ('a', 'a'), ('A', 'a'), ('A', 'A'), ('A', 'a'), ('A', 'A'), ('A', 'A'), ('a', 'A'), ('A', 'a'), ('a', 'a'), ('a', 'a'), ('A', 'A'), ('a', 'a'), ('a', 'a'), ('A', 'a'), ('a', 'A'), ('A', 'A')]\n"
     ]
    }
   ],
   "source": [
    "import numpy.random as random\n",
    "\n",
    "def build_population(N, p):\n",
    "    population = []\n",
    "    for i in range(N):\n",
    "        allele1 = \"A\"\n",
    "        if random.rand() > p:\n",
    "            allele1 = \"a\"\n",
    "        allele2 = \"A\"\n",
    "        if random.rand() > p:\n",
    "            allele2 = \"a\"\n",
    "        population.append((allele1, allele2))\n",
    "    return population\n",
    "\n",
    "population = build_population(20, 0.5)\n",
    "print(population)"
   ]
  },
  {
   "cell_type": "code",
   "execution_count": 37,
   "id": "0ae51f41",
   "metadata": {},
   "outputs": [
    {
     "ename": "SyntaxError",
     "evalue": "invalid syntax (3910158248.py, line 1)",
     "output_type": "error",
     "traceback": [
      "\u001b[1;36m  File \u001b[1;32m\"C:\\Users\\Usuario\\AppData\\Local\\Temp\\ipykernel_26548\\3910158248.py\"\u001b[1;36m, line \u001b[1;32m1\u001b[0m\n\u001b[1;33m    git add Ejercicio1.ipynb\u001b[0m\n\u001b[1;37m        ^\u001b[0m\n\u001b[1;31mSyntaxError\u001b[0m\u001b[1;31m:\u001b[0m invalid syntax\n"
     ]
    }
   ],
   "source": [
    "git add Ejercicio1.ipynb"
   ]
  },
  {
   "cell_type": "code",
   "execution_count": 31,
   "id": "7ce0c18e",
   "metadata": {},
   "outputs": [
    {
     "name": "stdout",
     "output_type": "stream",
     "text": [
      "{'AA': 3, 'aa': 3, 'Aa': 2, 'aA': 1}\n"
     ]
    }
   ],
   "source": [
    "def compute_frequencies(population):\n",
    "    AA = population.count((\"A\", \"A\"))\n",
    "    Aa = population.count((\"A\", \"a\"))\n",
    "    aA = population.count((\"a\", \"A\"))\n",
    "    aa = population.count((\"a\", \"a\"))\n",
    "    return({\"AA\": AA, \"aa\": aa, \"Aa\": Aa, \"aA\": aA})\n",
    "\n",
    "population = [(\"A\", \"A\"), (\"A\", \"a\"), (\"a\", \"A\"), (\"a\", \"a\"), (\"A\", \"A\"), (\"A\", \"a\"), (\"A\", \"A\"), (\"a\", \"a\"), (\"a\", \"a\") ]\n",
    "frequencies = compute_frequencies(population)\n",
    "print(frequencies)"
   ]
  },
  {
   "cell_type": "code",
   "execution_count": 32,
   "id": "4843f314",
   "metadata": {},
   "outputs": [
    {
     "name": "stdout",
     "output_type": "stream",
     "text": [
      "[('A', 'a'), ('a', 'a'), ('A', 'a'), ('A', 'a')]\n"
     ]
    }
   ],
   "source": [
    "import numpy as np\n",
    "\n",
    "def reproduce_population(population):\n",
    "    new_generation = []\n",
    "    N = len(population)\n",
    "    for i in range(N):\n",
    "        dad = np.random.randint(N)\n",
    "        mom = np.random.randint(N)\n",
    "        chr_mom = np.random.randint(2)\n",
    "        offspring = (population[mom][chr_mom], population[dad][1 - chr_mom])\n",
    "        new_generation.append(offspring)\n",
    "    return new_generation\n",
    "\n",
    "population = [('A', 'A'), ('A', 'a'), ('a', 'A'), ('a', 'a')]\n",
    "new_generation = reproduce_population(population)\n",
    "print(new_generation)\n"
   ]
  },
  {
   "cell_type": "code",
   "execution_count": 34,
   "id": "b79d4476",
   "metadata": {},
   "outputs": [
    {
     "name": "stdout",
     "output_type": "stream",
     "text": [
      "An allele reached fixation at generation 110\n",
      "The genotype counts are\n",
      "{'AA': 0, 'aa': 100, 'Aa': 0, 'aA': 0}\n",
      "Total generations: 110\n",
      "Genotype counts: {'AA': 0, 'aa': 100, 'Aa': 0, 'aA': 0}\n"
     ]
    }
   ],
   "source": [
    "def simulate_drift(N, p):\n",
    "    my_pop = build_population(N, p)\n",
    "    fixation = False\n",
    "    num_generations = 0\n",
    "    while fixation == False:\n",
    "        genotype_counts = compute_frequencies(my_pop)\n",
    "        if (genotype_counts[\"AA\"] == N or genotype_counts[\"aa\"] == N):\n",
    "            print(\"An allele reached fixation at generation\", num_generations)\n",
    "            print(\"The genotype counts are\")\n",
    "            print(genotype_counts)\n",
    "            fixation == True\n",
    "            break\n",
    "        my_pop = reproduce_population(my_pop)\n",
    "        num_generations += 1\n",
    "    return num_generations, genotype_counts\n",
    "\n",
    "N = 100\n",
    "p = 0.5\n",
    "num_generations, genotype_counts = simulate_drift(N, p)\n",
    "print(\"Total generations:\", num_generations)\n",
    "print(\"Genotype counts:\", genotype_counts)"
   ]
  },
  {
   "cell_type": "code",
   "execution_count": null,
   "id": "4e79e570",
   "metadata": {},
   "outputs": [],
   "source": []
  }
 ],
 "metadata": {
  "kernelspec": {
   "display_name": "Python 3 (ipykernel)",
   "language": "python",
   "name": "python3"
  },
  "language_info": {
   "codemirror_mode": {
    "name": "ipython",
    "version": 3
   },
   "file_extension": ".py",
   "mimetype": "text/x-python",
   "name": "python",
   "nbconvert_exporter": "python",
   "pygments_lexer": "ipython3",
   "version": "3.9.13"
  }
 },
 "nbformat": 4,
 "nbformat_minor": 5
}
